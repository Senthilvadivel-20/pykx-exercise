{
 "cells": [
  {
   "cell_type": "code",
   "execution_count": 3,
   "id": "3431315d",
   "metadata": {},
   "outputs": [],
   "source": [
    "# QHOME needs to be set\n",
    "\n",
    "import pykx as kx\n",
    "import pandas as pd"
   ]
  },
  {
   "cell_type": "code",
   "execution_count": 27,
   "id": "b9170ed6",
   "metadata": {},
   "outputs": [
    {
     "data": {
      "text/plain": [
       "pykx.LongVector(pykx.q('0 1 2 3 4 5 6 7 8 9'))"
      ]
     },
     "execution_count": 27,
     "metadata": {},
     "output_type": "execute_result"
    }
   ],
   "source": [
    "kx.q(\"til 10\")"
   ]
  },
  {
   "cell_type": "code",
   "execution_count": 30,
   "id": "a1782a23",
   "metadata": {},
   "outputs": [
    {
     "data": {
      "text/plain": [
       "pykx.FloatAtom(pykx.q('1f'))"
      ]
     },
     "execution_count": 30,
     "metadata": {},
     "output_type": "execute_result"
    }
   ],
   "source": [
    "# Define the Data types\n",
    "\n",
    "\n",
    "kx.FloatAtom(1.0)\n",
    "\n",
    "# or\n",
    "\n",
    "\n",
    "kx.q(\"1.0f\") #it's an kdb/q way"
   ]
  },
  {
   "cell_type": "code",
   "execution_count": 32,
   "id": "45c6057c",
   "metadata": {},
   "outputs": [
    {
     "data": {
      "text/plain": [
       "pykx.FloatVector(pykx.q('1.3 4.2 7.9 10.15'))"
      ]
     },
     "execution_count": 32,
     "metadata": {},
     "output_type": "execute_result"
    }
   ],
   "source": [
    "# Define set of vectors\n",
    "\n",
    "kx.FloatVector([1.3, 4.2, 7.9, 10.15])\n",
    "\n",
    "#Or can do it in kdb way\n",
    "\n",
    "kx.q('1.3 4.2 7.9 10.15')"
   ]
  },
  {
   "cell_type": "code",
   "execution_count": 33,
   "id": "3a38b2e6",
   "metadata": {},
   "outputs": [
    {
     "data": {
      "text/plain": [
       "pykx.CharAtom(pykx.q('\"S\"'))"
      ]
     },
     "execution_count": 33,
     "metadata": {},
     "output_type": "execute_result"
    }
   ],
   "source": [
    "# Character\n",
    "\n",
    "kx.CharAtom(\"S\")"
   ]
  },
  {
   "cell_type": "code",
   "execution_count": 35,
   "id": "607d6c99",
   "metadata": {},
   "outputs": [
    {
     "data": {
      "text/plain": [
       "pykx.CharVector(pykx.q('\"Senthil\"'))"
      ]
     },
     "execution_count": 35,
     "metadata": {},
     "output_type": "execute_result"
    }
   ],
   "source": [
    "kx.CharVector(\"Senthil\") #String"
   ]
  },
  {
   "cell_type": "code",
   "execution_count": 39,
   "id": "422d93a1",
   "metadata": {},
   "outputs": [
    {
     "data": {
      "text/plain": [
       "pykx.BooleanAtom(pykx.q('0b'))"
      ]
     },
     "execution_count": 39,
     "metadata": {},
     "output_type": "execute_result"
    }
   ],
   "source": [
    "# Boolean atom\n",
    "\n",
    "kx.BooleanAtom(1)\n",
    "\n",
    "kx.BooleanAtom(True)\n",
    "\n",
    "kx.q('0b')"
   ]
  },
  {
   "cell_type": "code",
   "execution_count": 41,
   "id": "e1a2ae83",
   "metadata": {},
   "outputs": [
    {
     "data": {
      "text/plain": [
       "pykx.SymbolVector(pykx.q('`APPL`MSFT`TSLA`GOOG'))"
      ]
     },
     "execution_count": 41,
     "metadata": {},
     "output_type": "execute_result"
    }
   ],
   "source": [
    "# Symbol\n",
    "\n",
    "kx.SymbolAtom(\"s\")\n",
    "\n",
    "kx.SymbolVector([\"APPL\",\"MSFT\",\"TSLA\",\"GOOG\"])"
   ]
  },
  {
   "cell_type": "code",
   "execution_count": 50,
   "id": "3ceb07a4",
   "metadata": {},
   "outputs": [
    {
     "data": {
      "text/plain": [
       "[4, 1, 5, 1, 6, 6, 2, 2, 4, 7]"
      ]
     },
     "execution_count": 50,
     "metadata": {},
     "output_type": "execute_result"
    }
   ],
   "source": [
    "# Create function in pykx\n",
    "\n",
    "def fun(num, lis):\n",
    "    lis = kx.toq(lis)\n",
    "    num = kx.toq(num)\n",
    "    qfun = kx.q('{[x;y] x?y}')\n",
    "    res = qfun(num,lis)\n",
    "    return res.py()\n",
    "    \n",
    "# Pass the params to function\n",
    "fun(10, [1,2,3,4,5,6,7])\n"
   ]
  },
  {
   "cell_type": "code",
   "execution_count": null,
   "id": "bd8448b6",
   "metadata": {
    "scrolled": true
   },
   "outputs": [],
   "source": []
  },
  {
   "cell_type": "code",
   "execution_count": 58,
   "id": "364ccef8",
   "metadata": {},
   "outputs": [],
   "source": [
    "from datetime import datetime"
   ]
  },
  {
   "cell_type": "code",
   "execution_count": 80,
   "id": "cdec5a30",
   "metadata": {},
   "outputs": [
    {
     "data": {
      "text/plain": [
       "datetime.timedelta(seconds=41, microseconds=485920)"
      ]
     },
     "execution_count": 80,
     "metadata": {},
     "output_type": "execute_result"
    }
   ],
   "source": [
    "st = datetime.now()\n",
    "\n",
    "\n",
    "fun(10000000, [1,2,3,4,5,6,7])\n",
    "\n",
    "et = datetime.now()\n",
    "\n",
    "et-st"
   ]
  },
  {
   "cell_type": "code",
   "execution_count": 82,
   "id": "d446b7f8",
   "metadata": {},
   "outputs": [],
   "source": [
    "# import random\n",
    "\n",
    "# st = datetime.now()\n",
    "\n",
    "# random.choices([1,2,3,4,5,6,7],k=10000000)\n",
    "\n",
    "# et = datetime.now()\n",
    "\n",
    "# et-st  # How the fuck python is faster than kdb\n",
    "\n",
    "# datetime.timedelta(seconds=2, microseconds=119858)"
   ]
  },
  {
   "cell_type": "code",
   "execution_count": null,
   "id": "e6caac39",
   "metadata": {},
   "outputs": [],
   "source": []
  },
  {
   "cell_type": "code",
   "execution_count": 84,
   "id": "cae9fed3",
   "metadata": {},
   "outputs": [
    {
     "data": {
      "text/plain": [
       "pykx.List(pykx.q('\n",
       "1 2 3\n",
       "`s`e\n",
       "`senthil`kdb`python\n",
       "'))"
      ]
     },
     "execution_count": 84,
     "metadata": {},
     "output_type": "execute_result"
    }
   ],
   "source": [
    "# List\n",
    "\n",
    "kx.List([[1,2,3],['s','e'],['senthil','kdb','python']])"
   ]
  },
  {
   "cell_type": "code",
   "execution_count": 85,
   "id": "e108a28b",
   "metadata": {},
   "outputs": [
    {
     "data": {
      "text/html": [
       "<table border=\"1\" class=\"dataframe\">\n",
       "  <thead>\n",
       "    <tr style=\"text-align: right;\">\n",
       "      <th></th>\n",
       "      <th></th>\n",
       "    </tr>\n",
       "    <tr>\n",
       "      <th></th>\n",
       "      <th></th>\n",
       "    </tr>\n",
       "  </thead>\n",
       "  <tbody>\n",
       "    <tr>\n",
       "      <th>Name</th>\n",
       "      <td>Senthil Raj</td>\n",
       "    </tr>\n",
       "    <tr>\n",
       "      <th>Subject</th>\n",
       "      <td>kdb full stack</td>\n",
       "    </tr>\n",
       "  </tbody>\n",
       "</table>"
      ],
      "text/plain": [
       "pykx.Dictionary(pykx.q('\n",
       "Name   | Senthil Raj       \n",
       "Subject| kdb     full stack\n",
       "'))"
      ]
     },
     "execution_count": 85,
     "metadata": {},
     "output_type": "execute_result"
    }
   ],
   "source": [
    "# Dictionary\n",
    "\n",
    "kx.Dictionary({'Name':['Senthil','Raj'], 'Subject':['kdb','full stack']})"
   ]
  },
  {
   "cell_type": "code",
   "execution_count": 97,
   "id": "39566767",
   "metadata": {},
   "outputs": [
    {
     "name": "stdout",
     "output_type": "stream",
     "text": [
      "col1 col2 col3\n",
      "--------------\n",
      "1    2    a   \n",
      "2    3    b   \n",
      "3    4    c   \n"
     ]
    }
   ],
   "source": [
    "# PyKX Tables\n",
    "\n",
    "\n",
    "print(kx.Table([[1, 2, 'a'], [2, 3, 'b'], [3, 4, 'c']], columns = ['col1', 'col2', 'col3']))"
   ]
  },
  {
   "cell_type": "code",
   "execution_count": 119,
   "id": "fd245292",
   "metadata": {
    "scrolled": true
   },
   "outputs": [
    {
     "data": {
      "text/html": [
       "<table border=\"1\" class=\"dataframe\">\n",
       "  <thead>\n",
       "    <tr style=\"text-align: right;\">\n",
       "      <th></th>\n",
       "      <th>sym</th>\n",
       "      <th>price</th>\n",
       "      <th>size</th>\n",
       "    </tr>\n",
       "    <tr>\n",
       "      <th></th>\n",
       "      <th></th>\n",
       "      <th></th>\n",
       "      <th></th>\n",
       "    </tr>\n",
       "  </thead>\n",
       "  <tbody>\n",
       "    <tr>\n",
       "      <th>0</th>\n",
       "      <td>MSFT</td>\n",
       "      <td>19.14249</td>\n",
       "      <td>8</td>\n",
       "    </tr>\n",
       "    <tr>\n",
       "      <th>1</th>\n",
       "      <td>TSLA</td>\n",
       "      <td>16.40847</td>\n",
       "      <td>38</td>\n",
       "    </tr>\n",
       "    <tr>\n",
       "      <th>2</th>\n",
       "      <td>GOOG</td>\n",
       "      <td>89.86563</td>\n",
       "      <td>11</td>\n",
       "    </tr>\n",
       "    <tr>\n",
       "      <th>3</th>\n",
       "      <td>GOOG</td>\n",
       "      <td>32.59176</td>\n",
       "      <td>46</td>\n",
       "    </tr>\n",
       "    <tr>\n",
       "      <th>4</th>\n",
       "      <td>MSFT</td>\n",
       "      <td>16.52428</td>\n",
       "      <td>14</td>\n",
       "    </tr>\n",
       "  </tbody>\n",
       "</table>"
      ],
      "text/plain": [
       "pykx.Table(pykx.q('\n",
       "sym  price    size\n",
       "------------------\n",
       "MSFT 19.14249 8   \n",
       "TSLA 16.40847 38  \n",
       "GOOG 89.86563 11  \n",
       "GOOG 32.59176 46  \n",
       "MSFT 16.52428 14  \n",
       "'))"
      ]
     },
     "execution_count": 119,
     "metadata": {},
     "output_type": "execute_result"
    }
   ],
   "source": [
    "# Table creation like pandas. List should be in the python type\n",
    "\n",
    "df = kx.Table(data = { 'sym' : random.choices(['APPL','MSFT','GOOG','TSLA'],k = 10), 'price': kx.random.random(10, 100.0).py(), 'size':kx.random.random(10, 50).py()})\n",
    "\n",
    "df.head()"
   ]
  },
  {
   "cell_type": "code",
   "execution_count": 138,
   "id": "60060dbc",
   "metadata": {},
   "outputs": [
    {
     "data": {
      "text/html": [
       "<table border=\"1\" class=\"dataframe\">\n",
       "  <thead>\n",
       "    <tr style=\"text-align: right;\">\n",
       "      <th></th>\n",
       "      <th>price</th>\n",
       "      <th>size</th>\n",
       "    </tr>\n",
       "    <tr>\n",
       "      <th>sym</th>\n",
       "      <th></th>\n",
       "      <th></th>\n",
       "    </tr>\n",
       "  </thead>\n",
       "  <tbody>\n",
       "    <tr>\n",
       "      <th>MSFT</th>\n",
       "      <td>19.14249</td>\n",
       "      <td>8</td>\n",
       "    </tr>\n",
       "    <tr>\n",
       "      <th>TSLA</th>\n",
       "      <td>16.40847</td>\n",
       "      <td>38</td>\n",
       "    </tr>\n",
       "    <tr>\n",
       "      <th>GOOG</th>\n",
       "      <td>89.86563</td>\n",
       "      <td>11</td>\n",
       "    </tr>\n",
       "    <tr>\n",
       "      <th>GOOG</th>\n",
       "      <td>32.59176</td>\n",
       "      <td>46</td>\n",
       "    </tr>\n",
       "    <tr>\n",
       "      <th>MSFT</th>\n",
       "      <td>16.52428</td>\n",
       "      <td>14</td>\n",
       "    </tr>\n",
       "    <tr>\n",
       "      <th>TSLA</th>\n",
       "      <td>84.62978</td>\n",
       "      <td>39</td>\n",
       "    </tr>\n",
       "    <tr>\n",
       "      <th>GOOG</th>\n",
       "      <td>32.79133</td>\n",
       "      <td>42</td>\n",
       "    </tr>\n",
       "    <tr>\n",
       "      <th>APPL</th>\n",
       "      <td>3.309212</td>\n",
       "      <td>10</td>\n",
       "    </tr>\n",
       "    <tr>\n",
       "      <th>MSFT</th>\n",
       "      <td>15.85075</td>\n",
       "      <td>40</td>\n",
       "    </tr>\n",
       "    <tr>\n",
       "      <th>APPL</th>\n",
       "      <td>34.79387</td>\n",
       "      <td>40</td>\n",
       "    </tr>\n",
       "  </tbody>\n",
       "</table>"
      ],
      "text/plain": [
       "pykx.KeyedTable(pykx.q('\n",
       "sym | price    size\n",
       "----| -------------\n",
       "MSFT| 19.14249 8   \n",
       "TSLA| 16.40847 38  \n",
       "GOOG| 89.86563 11  \n",
       "GOOG| 32.59176 46  \n",
       "MSFT| 16.52428 14  \n",
       "TSLA| 84.62978 39  \n",
       "GOOG| 32.79133 42  \n",
       "APPL| 3.309212 10  \n",
       "MSFT| 15.85075 40  \n",
       "APPL| 34.79387 40  \n",
       "'))"
      ]
     },
     "execution_count": 138,
     "metadata": {},
     "output_type": "execute_result"
    }
   ],
   "source": [
    "# Keyed table\n",
    "\n",
    "df.set_index(['sym'])"
   ]
  },
  {
   "cell_type": "code",
   "execution_count": 139,
   "id": "a23b9a5a",
   "metadata": {},
   "outputs": [
    {
     "data": {
      "text/plain": [
       "pykx.List(pykx.q('\"/home/senthil/Notebooks/PYKX/Data\"'))"
      ]
     },
     "execution_count": 139,
     "metadata": {},
     "output_type": "execute_result"
    }
   ],
   "source": [
    "# System commands\n",
    "\n",
    "kx.q.system(\"pwd\")"
   ]
  },
  {
   "cell_type": "code",
   "execution_count": 142,
   "id": "c6e3b90f",
   "metadata": {},
   "outputs": [
    {
     "data": {
      "text/html": [
       "<table border=\"1\" class=\"dataframe\">\n",
       "  <thead>\n",
       "    <tr style=\"text-align: right;\">\n",
       "      <th></th>\n",
       "      <th>c1</th>\n",
       "      <th>c2</th>\n",
       "      <th>c3</th>\n",
       "      <th>c4</th>\n",
       "    </tr>\n",
       "    <tr>\n",
       "      <th></th>\n",
       "      <th></th>\n",
       "      <th></th>\n",
       "      <th></th>\n",
       "      <th></th>\n",
       "    </tr>\n",
       "  </thead>\n",
       "  <tbody>\n",
       "    <tr>\n",
       "      <th>0</th>\n",
       "      <td>1h</td>\n",
       "      <td>\"abc\"</td>\n",
       "      <td>2.3e</td>\n",
       "      <td>2022.12.01</td>\n",
       "    </tr>\n",
       "    <tr>\n",
       "      <th>1</th>\n",
       "      <td>2h</td>\n",
       "      <td>\"def\"</td>\n",
       "      <td>24.3e</td>\n",
       "      <td>2022.11.21</td>\n",
       "    </tr>\n",
       "    <tr>\n",
       "      <th>2</th>\n",
       "      <td>3h</td>\n",
       "      <td>\"ghi\"</td>\n",
       "      <td>9.8e</td>\n",
       "      <td>2022.01.09</td>\n",
       "    </tr>\n",
       "    <tr>\n",
       "      <th>3</th>\n",
       "      <td>4h</td>\n",
       "      <td>\"jkl\"</td>\n",
       "      <td>6.2e</td>\n",
       "      <td>2022.07.11</td>\n",
       "    </tr>\n",
       "    <tr>\n",
       "      <th>4</th>\n",
       "      <td>5h</td>\n",
       "      <td>\"mno\"</td>\n",
       "      <td>9.7e</td>\n",
       "      <td>2022.03.07</td>\n",
       "    </tr>\n",
       "    <tr>\n",
       "      <th>5</th>\n",
       "      <td>6h</td>\n",
       "      <td>\"qrs\"</td>\n",
       "      <td>3.1e</td>\n",
       "      <td>2022.09.19</td>\n",
       "    </tr>\n",
       "  </tbody>\n",
       "</table>"
      ],
      "text/plain": [
       "pykx.Table(pykx.q('\n",
       "c1 c2    c3   c4        \n",
       "------------------------\n",
       "1  \"abc\" 2.3  2022.12.01\n",
       "2  \"def\" 24.3 2022.11.21\n",
       "3  \"ghi\" 9.8  2022.01.09\n",
       "4  \"jkl\" 6.2  2022.07.11\n",
       "5  \"mno\" 9.7  2022.03.07\n",
       "6  \"qrs\" 3.1  2022.09.19\n",
       "'))"
      ]
     },
     "execution_count": 142,
     "metadata": {},
     "output_type": "execute_result"
    }
   ],
   "source": [
    "# Read csv file\n",
    "\n",
    "t = kx.q.read.csv(\"/home/senthil/Notebooks/PYKX/Data/test.csv\")\n",
    "\n",
    "t"
   ]
  },
  {
   "cell_type": "code",
   "execution_count": 144,
   "id": "e0425174",
   "metadata": {},
   "outputs": [
    {
     "data": {
      "text/html": [
       "<table border=\"1\" class=\"dataframe\">\n",
       "  <thead>\n",
       "    <tr style=\"text-align: right;\">\n",
       "      <th></th>\n",
       "      <th>t</th>\n",
       "      <th>f</th>\n",
       "      <th>a</th>\n",
       "    </tr>\n",
       "    <tr>\n",
       "      <th>c</th>\n",
       "      <th></th>\n",
       "      <th></th>\n",
       "      <th></th>\n",
       "    </tr>\n",
       "  </thead>\n",
       "  <tbody>\n",
       "    <tr>\n",
       "      <th>c1</th>\n",
       "      <td>\"h\"</td>\n",
       "      <td></td>\n",
       "      <td></td>\n",
       "    </tr>\n",
       "    <tr>\n",
       "      <th>c2</th>\n",
       "      <td>\"C\"</td>\n",
       "      <td></td>\n",
       "      <td></td>\n",
       "    </tr>\n",
       "    <tr>\n",
       "      <th>c3</th>\n",
       "      <td>\"e\"</td>\n",
       "      <td></td>\n",
       "      <td></td>\n",
       "    </tr>\n",
       "    <tr>\n",
       "      <th>c4</th>\n",
       "      <td>\"d\"</td>\n",
       "      <td></td>\n",
       "      <td></td>\n",
       "    </tr>\n",
       "  </tbody>\n",
       "</table>"
      ],
      "text/plain": [
       "pykx.KeyedTable(pykx.q('\n",
       "c | t f a\n",
       "--| -----\n",
       "c1| h    \n",
       "c2| C    \n",
       "c3| e    \n",
       "c4| d    \n",
       "'))"
      ]
     },
     "execution_count": 144,
     "metadata": {},
     "output_type": "execute_result"
    }
   ],
   "source": [
    "kx.q.meta(t) #hmm pykx auto detect the data types. But for numbers and float, it choose the minimal type like short, real etc.."
   ]
  },
  {
   "cell_type": "code",
   "execution_count": 149,
   "id": "63040931",
   "metadata": {},
   "outputs": [
    {
     "data": {
      "text/plain": [
       "PosixPath('/home/senthil/Notebooks/PYKX/Data/test1.json')"
      ]
     },
     "execution_count": 149,
     "metadata": {},
     "output_type": "execute_result"
    }
   ],
   "source": [
    "# Export as csv\n",
    "\n",
    "kx.q.write.csv(\"/home/senthil/Notebooks/PYKX/Data/test1.csv\", t)\n",
    "\n",
    "kx.q.write.json(\"/home/senthil/Notebooks/PYKX/Data/test1.json\", t)\n",
    "\n",
    "# No excel"
   ]
  },
  {
   "cell_type": "code",
   "execution_count": null,
   "id": "b578445e",
   "metadata": {},
   "outputs": [],
   "source": []
  },
  {
   "cell_type": "code",
   "execution_count": null,
   "id": "674222c1",
   "metadata": {},
   "outputs": [],
   "source": []
  },
  {
   "cell_type": "code",
   "execution_count": null,
   "id": "4b370fcc",
   "metadata": {},
   "outputs": [],
   "source": []
  },
  {
   "cell_type": "code",
   "execution_count": null,
   "id": "bc2eb327",
   "metadata": {},
   "outputs": [],
   "source": []
  },
  {
   "cell_type": "code",
   "execution_count": 4,
   "id": "171e27b1",
   "metadata": {},
   "outputs": [],
   "source": [
    "trade = kx.schema.builder({'sym':kx.SymbolAtom, 'price':kx.FloatAtom, 'size':kx.LongAtom})"
   ]
  },
  {
   "cell_type": "code",
   "execution_count": 22,
   "id": "15511d48",
   "metadata": {},
   "outputs": [
    {
     "data": {
      "text/html": [
       "<table border=\"1\" class=\"dataframe\">\n",
       "  <thead>\n",
       "    <tr style=\"text-align: right;\">\n",
       "      <th></th>\n",
       "      <th>sym</th>\n",
       "      <th>price</th>\n",
       "      <th>size</th>\n",
       "    </tr>\n",
       "    <tr>\n",
       "      <th></th>\n",
       "      <th></th>\n",
       "      <th></th>\n",
       "      <th></th>\n",
       "    </tr>\n",
       "  </thead>\n",
       "  <tbody>\n",
       "    <tr>\n",
       "      <th>0</th>\n",
       "      <td>AAPL</td>\n",
       "      <td>51.59796</td>\n",
       "      <td>26</td>\n",
       "    </tr>\n",
       "    <tr>\n",
       "      <th>1</th>\n",
       "      <td>AAPL</td>\n",
       "      <td>40.66642</td>\n",
       "      <td>9</td>\n",
       "    </tr>\n",
       "    <tr>\n",
       "      <th>2</th>\n",
       "      <td>AMZ</td>\n",
       "      <td>71.11716</td>\n",
       "      <td>20</td>\n",
       "    </tr>\n",
       "    <tr>\n",
       "      <th>3</th>\n",
       "      <td>TSLA</td>\n",
       "      <td>41.1597</td>\n",
       "      <td>29</td>\n",
       "    </tr>\n",
       "    <tr>\n",
       "      <th>4</th>\n",
       "      <td>AMZ</td>\n",
       "      <td>61.37452</td>\n",
       "      <td>37</td>\n",
       "    </tr>\n",
       "    <tr>\n",
       "      <th>5</th>\n",
       "      <td>AMZ</td>\n",
       "      <td>52.94808</td>\n",
       "      <td>4</td>\n",
       "    </tr>\n",
       "    <tr>\n",
       "      <th>6</th>\n",
       "      <td>MSFT</td>\n",
       "      <td>96.72398</td>\n",
       "      <td>0</td>\n",
       "    </tr>\n",
       "    <tr>\n",
       "      <th>7</th>\n",
       "      <td>MSFT</td>\n",
       "      <td>23.06385</td>\n",
       "      <td>49</td>\n",
       "    </tr>\n",
       "    <tr>\n",
       "      <th>8</th>\n",
       "      <td>AMZ</td>\n",
       "      <td>84.81567</td>\n",
       "      <td>40</td>\n",
       "    </tr>\n",
       "    <tr>\n",
       "      <th>9</th>\n",
       "      <td>MSFT</td>\n",
       "      <td>38.9056</td>\n",
       "      <td>24</td>\n",
       "    </tr>\n",
       "    <tr>\n",
       "      <th>10</th>\n",
       "      <td>MSFT</td>\n",
       "      <td>23.92341</td>\n",
       "      <td>23</td>\n",
       "    </tr>\n",
       "    <tr>\n",
       "      <th>11</th>\n",
       "      <td>AMZ</td>\n",
       "      <td>15.08133</td>\n",
       "      <td>44</td>\n",
       "    </tr>\n",
       "    <tr>\n",
       "      <th>12</th>\n",
       "      <td>AAPL</td>\n",
       "      <td>40.99561</td>\n",
       "      <td>44</td>\n",
       "    </tr>\n",
       "    <tr>\n",
       "      <th>13</th>\n",
       "      <td>AMZ</td>\n",
       "      <td>61.08817</td>\n",
       "      <td>28</td>\n",
       "    </tr>\n",
       "  </tbody>\n",
       "</table>"
      ],
      "text/plain": [
       "pykx.Table(pykx.q('\n",
       "sym  price    size\n",
       "------------------\n",
       "AAPL 51.59796 26  \n",
       "AAPL 40.66642 9   \n",
       "AMZ  71.11716 20  \n",
       "TSLA 41.1597  29  \n",
       "AMZ  61.37452 37  \n",
       "AMZ  52.94808 4   \n",
       "MSFT 96.72398 0   \n",
       "MSFT 23.06385 49  \n",
       "AMZ  84.81567 40  \n",
       "MSFT 38.9056  24  \n",
       "MSFT 23.92341 23  \n",
       "AMZ  15.08133 44  \n",
       "AAPL 40.99561 44  \n",
       "AMZ  61.08817 28  \n",
       "'))"
      ]
     },
     "execution_count": 22,
     "metadata": {},
     "output_type": "execute_result"
    }
   ],
   "source": [
    "data = [kx.random.random(2, kx.SymbolVector([\"AAPL\",\"MSFT\",\"AMZ\",\"TSLA\"])),\n",
    "kx.random.random(2, 100.00),\n",
    "kx.random.random(2,50)]\n",
    "\n",
    "trade.insert(data, inplace=True)"
   ]
  },
  {
   "cell_type": "code",
   "execution_count": 23,
   "id": "8bd80333",
   "metadata": {
    "scrolled": true
   },
   "outputs": [],
   "source": [
    "db = kx.DB(path=\"/home/senthil/Notebooks/PYKX/Data\")"
   ]
  },
  {
   "cell_type": "code",
   "execution_count": 24,
   "id": "943947c8",
   "metadata": {},
   "outputs": [],
   "source": [
    "db.create(trade,'trade',format='splayed')"
   ]
  },
  {
   "cell_type": "code",
   "execution_count": 21,
   "id": "e21488fe",
   "metadata": {},
   "outputs": [],
   "source": [
    "#kx.q.system(\"pwd\")"
   ]
  },
  {
   "cell_type": "code",
   "execution_count": 26,
   "id": "76af58f1",
   "metadata": {},
   "outputs": [
    {
     "data": {
      "text/html": [
       "<table border=\"1\" class=\"dataframe\">\n",
       "  <thead>\n",
       "    <tr style=\"text-align: right;\">\n",
       "      <th></th>\n",
       "      <th>sym</th>\n",
       "      <th>price</th>\n",
       "      <th>size</th>\n",
       "    </tr>\n",
       "    <tr>\n",
       "      <th></th>\n",
       "      <th></th>\n",
       "      <th></th>\n",
       "      <th></th>\n",
       "    </tr>\n",
       "  </thead>\n",
       "  <tbody>\n",
       "    <tr>\n",
       "      <th>0</th>\n",
       "      <td>AAPL</td>\n",
       "      <td>51.59796</td>\n",
       "      <td>26</td>\n",
       "    </tr>\n",
       "    <tr>\n",
       "      <th>1</th>\n",
       "      <td>AAPL</td>\n",
       "      <td>40.66642</td>\n",
       "      <td>9</td>\n",
       "    </tr>\n",
       "    <tr>\n",
       "      <th>2</th>\n",
       "      <td>AMZ</td>\n",
       "      <td>71.11716</td>\n",
       "      <td>20</td>\n",
       "    </tr>\n",
       "    <tr>\n",
       "      <th>3</th>\n",
       "      <td>TSLA</td>\n",
       "      <td>41.1597</td>\n",
       "      <td>29</td>\n",
       "    </tr>\n",
       "    <tr>\n",
       "      <th>4</th>\n",
       "      <td>AMZ</td>\n",
       "      <td>61.37452</td>\n",
       "      <td>37</td>\n",
       "    </tr>\n",
       "    <tr>\n",
       "      <th>5</th>\n",
       "      <td>AMZ</td>\n",
       "      <td>52.94808</td>\n",
       "      <td>4</td>\n",
       "    </tr>\n",
       "    <tr>\n",
       "      <th>6</th>\n",
       "      <td>MSFT</td>\n",
       "      <td>96.72398</td>\n",
       "      <td>0</td>\n",
       "    </tr>\n",
       "    <tr>\n",
       "      <th>7</th>\n",
       "      <td>MSFT</td>\n",
       "      <td>23.06385</td>\n",
       "      <td>49</td>\n",
       "    </tr>\n",
       "    <tr>\n",
       "      <th>8</th>\n",
       "      <td>AMZ</td>\n",
       "      <td>84.81567</td>\n",
       "      <td>40</td>\n",
       "    </tr>\n",
       "    <tr>\n",
       "      <th>9</th>\n",
       "      <td>MSFT</td>\n",
       "      <td>38.9056</td>\n",
       "      <td>24</td>\n",
       "    </tr>\n",
       "    <tr>\n",
       "      <th>10</th>\n",
       "      <td>MSFT</td>\n",
       "      <td>23.92341</td>\n",
       "      <td>23</td>\n",
       "    </tr>\n",
       "    <tr>\n",
       "      <th>11</th>\n",
       "      <td>AMZ</td>\n",
       "      <td>15.08133</td>\n",
       "      <td>44</td>\n",
       "    </tr>\n",
       "    <tr>\n",
       "      <th>12</th>\n",
       "      <td>AAPL</td>\n",
       "      <td>40.99561</td>\n",
       "      <td>44</td>\n",
       "    </tr>\n",
       "    <tr>\n",
       "      <th>13</th>\n",
       "      <td>AMZ</td>\n",
       "      <td>61.08817</td>\n",
       "      <td>28</td>\n",
       "    </tr>\n",
       "  </tbody>\n",
       "</table>"
      ],
      "text/plain": [
       "pykx.SplayedTable(pykx.q('\n",
       "sym  price    size\n",
       "------------------\n",
       "AAPL 51.59796 26  \n",
       "AAPL 40.66642 9   \n",
       "AMZ  71.11716 20  \n",
       "TSLA 41.1597  29  \n",
       "AMZ  61.37452 37  \n",
       "AMZ  52.94808 4   \n",
       "MSFT 96.72398 0   \n",
       "MSFT 23.06385 49  \n",
       "AMZ  84.81567 40  \n",
       "MSFT 38.9056  24  \n",
       "MSFT 23.92341 23  \n",
       "AMZ  15.08133 44  \n",
       "AAPL 40.99561 44  \n",
       "AMZ  61.08817 28  \n",
       "'))"
      ]
     },
     "execution_count": 26,
     "metadata": {},
     "output_type": "execute_result"
    }
   ],
   "source": [
    "db.trade"
   ]
  },
  {
   "cell_type": "code",
   "execution_count": null,
   "id": "1a580951",
   "metadata": {},
   "outputs": [],
   "source": []
  }
 ],
 "metadata": {
  "kernelspec": {
   "display_name": "Python 3 (ipykernel)",
   "language": "python",
   "name": "python3"
  },
  "language_info": {
   "codemirror_mode": {
    "name": "ipython",
    "version": 3
   },
   "file_extension": ".py",
   "mimetype": "text/x-python",
   "name": "python",
   "nbconvert_exporter": "python",
   "pygments_lexer": "ipython3",
   "version": "3.8.20"
  }
 },
 "nbformat": 4,
 "nbformat_minor": 5
}
