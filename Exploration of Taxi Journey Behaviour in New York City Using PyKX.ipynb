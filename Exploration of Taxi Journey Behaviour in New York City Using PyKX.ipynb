{
 "cells": [
  {
   "cell_type": "markdown",
   "id": "35a87625",
   "metadata": {},
   "source": [
    "### Exploration of Taxi Journey Behaviour in New York City Using PyKX\n",
    "\n",
    "#### Source : Kx Academy"
   ]
  },
  {
   "cell_type": "code",
   "execution_count": 4,
   "id": "59a55d42",
   "metadata": {},
   "outputs": [],
   "source": [
    "import pykx as kx\n",
    "import pandas as pd\n",
    "\n",
    "import numpy as np\n",
    "\n",
    "from datetime import datetime, date\n",
    "\n",
    "import matplotlib.pyplot as plt\n",
    "from sklearn import preprocessing\n",
    "from sklearn.cluster import AgglomerativeClustering\n",
    "from sklearn.ensemble import RandomForestClassifier"
   ]
  },
  {
   "cell_type": "code",
   "execution_count": 7,
   "id": "ac78fe12",
   "metadata": {},
   "outputs": [],
   "source": [
    "# set the consol size\n",
    "\n",
    "kx.q.system.display_size = [50,125]"
   ]
  },
  {
   "cell_type": "markdown",
   "id": "a8185c43",
   "metadata": {},
   "source": [
    "### Read and Preprocessing"
   ]
  },
  {
   "cell_type": "code",
   "execution_count": 8,
   "id": "04e0e43a",
   "metadata": {},
   "outputs": [
    {
     "data": {
      "text/html": [
       "<table border=\"1\" class=\"dataframe\">\n",
       "  <thead>\n",
       "    <tr style=\"text-align: right;\">\n",
       "      <th></th>\n",
       "      <th>pickup_date</th>\n",
       "      <th>pickup_time</th>\n",
       "      <th>dropoff_date</th>\n",
       "      <th>dropoff_time</th>\n",
       "      <th>vendor_name</th>\n",
       "      <th>passenger_count</th>\n",
       "      <th>trip_distance</th>\n",
       "      <th>pickup_borough</th>\n",
       "      <th>pickup_zone</th>\n",
       "      <th>dropoff_borough</th>\n",
       "      <th>dropoff_zone</th>\n",
       "      <th>payment_type</th>\n",
       "      <th>total_amount</th>\n",
       "      <th>tip_amount</th>\n",
       "    </tr>\n",
       "    <tr>\n",
       "      <th></th>\n",
       "      <th></th>\n",
       "      <th></th>\n",
       "      <th></th>\n",
       "      <th></th>\n",
       "      <th></th>\n",
       "      <th></th>\n",
       "      <th></th>\n",
       "      <th></th>\n",
       "      <th></th>\n",
       "      <th></th>\n",
       "      <th></th>\n",
       "      <th></th>\n",
       "      <th></th>\n",
       "      <th></th>\n",
       "    </tr>\n",
       "  </thead>\n",
       "  <tbody>\n",
       "    <tr>\n",
       "      <th>0</th>\n",
       "      <td>2016.01.01</td>\n",
       "      <td>00:12:22</td>\n",
       "      <td>2016.01.01</td>\n",
       "      <td>00:29:14</td>\n",
       "      <td>\"Creative Mobile\"</td>\n",
       "      <td>1h</td>\n",
       "      <td>3.2e</td>\n",
       "      <td>Manhattan</td>\n",
       "      <td>\"Clinton East\"</td>\n",
       "      <td>\"Manhattan\"</td>\n",
       "      <td>\"Yorkville East\"</td>\n",
       "      <td>\"Credit card\"</td>\n",
       "      <td>18.36e</td>\n",
       "      <td>3.06e</td>\n",
       "    </tr>\n",
       "    <tr>\n",
       "      <th>1</th>\n",
       "      <td>2016.01.01</td>\n",
       "      <td>00:33:43</td>\n",
       "      <td>2016.01.01</td>\n",
       "      <td>00:49:03</td>\n",
       "      <td>\"VeriFone\"</td>\n",
       "      <td>1h</td>\n",
       "      <td>6.21e</td>\n",
       "      <td>Queens</td>\n",
       "      <td>\"JFK Airport\"</td>\n",
       "      <td>\"Queens\"</td>\n",
       "      <td>\"Richmond Hill\"</td>\n",
       "      <td>\"Cash\"</td>\n",
       "      <td>21.3e</td>\n",
       "      <td>0e</td>\n",
       "    </tr>\n",
       "    <tr>\n",
       "      <th>2</th>\n",
       "      <td>2016.01.01</td>\n",
       "      <td>00:46:43</td>\n",
       "      <td>2016.01.01</td>\n",
       "      <td>00:53:12</td>\n",
       "      <td>\"Creative Mobile\"</td>\n",
       "      <td>1h</td>\n",
       "      <td>0.4e</td>\n",
       "      <td>Manhattan</td>\n",
       "      <td>\"Clinton East\"</td>\n",
       "      <td>\"Manhattan\"</td>\n",
       "      <td>\"Clinton East\"</td>\n",
       "      <td>\"Cash\"</td>\n",
       "      <td>6.8e</td>\n",
       "      <td>0e</td>\n",
       "    </tr>\n",
       "    <tr>\n",
       "      <th>3</th>\n",
       "      <td>2016.01.01</td>\n",
       "      <td>00:29:39</td>\n",
       "      <td>2016.01.01</td>\n",
       "      <td>00:44:14</td>\n",
       "      <td>\"Creative Mobile\"</td>\n",
       "      <td>1h</td>\n",
       "      <td>0.8e</td>\n",
       "      <td>Manhattan</td>\n",
       "      <td>\"East Village\"</td>\n",
       "      <td>\"Manhattan\"</td>\n",
       "      <td>\"Greenwich Village South\"</td>\n",
       "      <td>\"No charge\"</td>\n",
       "      <td>7.3e</td>\n",
       "      <td>0e</td>\n",
       "    </tr>\n",
       "    <tr>\n",
       "      <th>4</th>\n",
       "      <td>2016.01.01</td>\n",
       "      <td>00:42:33</td>\n",
       "      <td>2016.01.01</td>\n",
       "      <td>00:58:08</td>\n",
       "      <td>\"VeriFone\"</td>\n",
       "      <td>2h</td>\n",
       "      <td>4.65e</td>\n",
       "      <td>Manhattan</td>\n",
       "      <td>\"Clinton East\"</td>\n",
       "      <td>\"Manhattan\"</td>\n",
       "      <td>\"East Harlem North\"</td>\n",
       "      <td>\"Credit card\"</td>\n",
       "      <td>21e</td>\n",
       "      <td>4.2e</td>\n",
       "    </tr>\n",
       "  </tbody>\n",
       "</table>"
      ],
      "text/plain": [
       "pykx.Table(pykx.q('\n",
       "pickup_date pickup_time dropoff_date dropoff_time vendor_name       passenger_count trip_distance pickup_borough pickup_zo..\n",
       "--------------------------------------------------------------------------------------------------------------------------..\n",
       "2016.01.01  00:12:22    2016.01.01   00:29:14     \"Creative Mobile\" 1               3.2           Manhattan      \"Clinton ..\n",
       "2016.01.01  00:33:43    2016.01.01   00:49:03     \"VeriFone\"        1               6.21          Queens         \"JFK Airp..\n",
       "2016.01.01  00:46:43    2016.01.01   00:53:12     \"Creative Mobile\" 1               0.4           Manhattan      \"Clinton ..\n",
       "2016.01.01  00:29:39    2016.01.01   00:44:14     \"Creative Mobile\" 1               0.8           Manhattan      \"East Vil..\n",
       "2016.01.01  00:42:33    2016.01.01   00:58:08     \"VeriFone\"        2               4.65          Manhattan      \"Clinton ..\n",
       "'))"
      ]
     },
     "execution_count": 8,
     "metadata": {},
     "output_type": "execute_result"
    }
   ],
   "source": [
    "# Read the data\n",
    "\n",
    "taxi = kx.q.read.csv(\"/home/senthil/data/raw/taxi_data_2016.csv\")\n",
    "\n",
    "taxi.head()"
   ]
  },
  {
   "cell_type": "code",
   "execution_count": 10,
   "id": "1e451740",
   "metadata": {},
   "outputs": [
    {
     "data": {
      "text/plain": [
       "(pykx.LongAtom(pykx.q('5245277')), pykx.LongAtom(pykx.q('14')))"
      ]
     },
     "execution_count": 10,
     "metadata": {},
     "output_type": "execute_result"
    }
   ],
   "source": [
    "taxi.shape"
   ]
  },
  {
   "cell_type": "code",
   "execution_count": 11,
   "id": "9e9e7f99",
   "metadata": {},
   "outputs": [
    {
     "data": {
      "text/plain": [
       "pykx.SymbolVector(pykx.q('`pickup_date`pickup_time`dropoff_date`dropoff_time`vendor_name`passenger_count`trip_distance`pickup_borough`pickup_zone`dr..'))"
      ]
     },
     "execution_count": 11,
     "metadata": {},
     "output_type": "execute_result"
    }
   ],
   "source": [
    "taxi.columns"
   ]
  },
  {
   "cell_type": "code",
   "execution_count": 13,
   "id": "efc0322d",
   "metadata": {},
   "outputs": [],
   "source": [
    "# Rename some of the column name\n",
    "\n",
    "taxi = taxi.rename(columns = {\n",
    "     \"vendor_name\": \"vendor\",\n",
    "        \"passenger_count\": \"passengers\",\n",
    "        \"trip_distance\": \"distance\",\n",
    "        \"payment_type\": \"payment\",\n",
    "        \"total_amount\": \"total\",\n",
    "        \"tip_amount\": \"tip\"\n",
    "})\n"
   ]
  },
  {
   "cell_type": "code",
   "execution_count": 15,
   "id": "4716092d",
   "metadata": {},
   "outputs": [
    {
     "data": {
      "text/html": [
       "<table border=\"1\" class=\"dataframe\">\n",
       "  <thead>\n",
       "    <tr style=\"text-align: right;\">\n",
       "      <th></th>\n",
       "      <th>pickup_date</th>\n",
       "      <th>pickup_time</th>\n",
       "      <th>dropoff_date</th>\n",
       "      <th>dropoff_time</th>\n",
       "      <th>vendor</th>\n",
       "      <th>passengers</th>\n",
       "      <th>distance</th>\n",
       "      <th>pickup_borough</th>\n",
       "      <th>pickup_zone</th>\n",
       "      <th>dropoff_borough</th>\n",
       "      <th>dropoff_zone</th>\n",
       "      <th>payment</th>\n",
       "      <th>total</th>\n",
       "      <th>tip</th>\n",
       "    </tr>\n",
       "    <tr>\n",
       "      <th></th>\n",
       "      <th></th>\n",
       "      <th></th>\n",
       "      <th></th>\n",
       "      <th></th>\n",
       "      <th></th>\n",
       "      <th></th>\n",
       "      <th></th>\n",
       "      <th></th>\n",
       "      <th></th>\n",
       "      <th></th>\n",
       "      <th></th>\n",
       "      <th></th>\n",
       "      <th></th>\n",
       "      <th></th>\n",
       "    </tr>\n",
       "  </thead>\n",
       "  <tbody>\n",
       "    <tr>\n",
       "      <th>0</th>\n",
       "      <td>2016.01.01</td>\n",
       "      <td>00:12:22</td>\n",
       "      <td>2016.01.01</td>\n",
       "      <td>00:29:14</td>\n",
       "      <td>\"Creative Mobile\"</td>\n",
       "      <td>1h</td>\n",
       "      <td>3.2e</td>\n",
       "      <td>Manhattan</td>\n",
       "      <td>\"Clinton East\"</td>\n",
       "      <td>\"Manhattan\"</td>\n",
       "      <td>\"Yorkville East\"</td>\n",
       "      <td>\"Credit card\"</td>\n",
       "      <td>18.36e</td>\n",
       "      <td>3.06e</td>\n",
       "    </tr>\n",
       "    <tr>\n",
       "      <th>1</th>\n",
       "      <td>2016.01.01</td>\n",
       "      <td>00:33:43</td>\n",
       "      <td>2016.01.01</td>\n",
       "      <td>00:49:03</td>\n",
       "      <td>\"VeriFone\"</td>\n",
       "      <td>1h</td>\n",
       "      <td>6.21e</td>\n",
       "      <td>Queens</td>\n",
       "      <td>\"JFK Airport\"</td>\n",
       "      <td>\"Queens\"</td>\n",
       "      <td>\"Richmond Hill\"</td>\n",
       "      <td>\"Cash\"</td>\n",
       "      <td>21.3e</td>\n",
       "      <td>0e</td>\n",
       "    </tr>\n",
       "    <tr>\n",
       "      <th>2</th>\n",
       "      <td>2016.01.01</td>\n",
       "      <td>00:46:43</td>\n",
       "      <td>2016.01.01</td>\n",
       "      <td>00:53:12</td>\n",
       "      <td>\"Creative Mobile\"</td>\n",
       "      <td>1h</td>\n",
       "      <td>0.4e</td>\n",
       "      <td>Manhattan</td>\n",
       "      <td>\"Clinton East\"</td>\n",
       "      <td>\"Manhattan\"</td>\n",
       "      <td>\"Clinton East\"</td>\n",
       "      <td>\"Cash\"</td>\n",
       "      <td>6.8e</td>\n",
       "      <td>0e</td>\n",
       "    </tr>\n",
       "    <tr>\n",
       "      <th>3</th>\n",
       "      <td>2016.01.01</td>\n",
       "      <td>00:29:39</td>\n",
       "      <td>2016.01.01</td>\n",
       "      <td>00:44:14</td>\n",
       "      <td>\"Creative Mobile\"</td>\n",
       "      <td>1h</td>\n",
       "      <td>0.8e</td>\n",
       "      <td>Manhattan</td>\n",
       "      <td>\"East Village\"</td>\n",
       "      <td>\"Manhattan\"</td>\n",
       "      <td>\"Greenwich Village South\"</td>\n",
       "      <td>\"No charge\"</td>\n",
       "      <td>7.3e</td>\n",
       "      <td>0e</td>\n",
       "    </tr>\n",
       "    <tr>\n",
       "      <th>4</th>\n",
       "      <td>2016.01.01</td>\n",
       "      <td>00:42:33</td>\n",
       "      <td>2016.01.01</td>\n",
       "      <td>00:58:08</td>\n",
       "      <td>\"VeriFone\"</td>\n",
       "      <td>2h</td>\n",
       "      <td>4.65e</td>\n",
       "      <td>Manhattan</td>\n",
       "      <td>\"Clinton East\"</td>\n",
       "      <td>\"Manhattan\"</td>\n",
       "      <td>\"East Harlem North\"</td>\n",
       "      <td>\"Credit card\"</td>\n",
       "      <td>21e</td>\n",
       "      <td>4.2e</td>\n",
       "    </tr>\n",
       "  </tbody>\n",
       "</table>"
      ],
      "text/plain": [
       "pykx.Table(pykx.q('\n",
       "pickup_date pickup_time dropoff_date dropoff_time vendor            passengers distance pickup_borough pickup_zone    drop..\n",
       "--------------------------------------------------------------------------------------------------------------------------..\n",
       "2016.01.01  00:12:22    2016.01.01   00:29:14     \"Creative Mobile\" 1          3.2      Manhattan      \"Clinton East\" \"Man..\n",
       "2016.01.01  00:33:43    2016.01.01   00:49:03     \"VeriFone\"        1          6.21     Queens         \"JFK Airport\"  \"Que..\n",
       "2016.01.01  00:46:43    2016.01.01   00:53:12     \"Creative Mobile\" 1          0.4      Manhattan      \"Clinton East\" \"Man..\n",
       "2016.01.01  00:29:39    2016.01.01   00:44:14     \"Creative Mobile\" 1          0.8      Manhattan      \"East Village\" \"Man..\n",
       "2016.01.01  00:42:33    2016.01.01   00:58:08     \"VeriFone\"        2          4.65     Manhattan      \"Clinton East\" \"Man..\n",
       "'))"
      ]
     },
     "execution_count": 15,
     "metadata": {},
     "output_type": "execute_result"
    }
   ],
   "source": [
    "taxi.head()"
   ]
  },
  {
   "cell_type": "code",
   "execution_count": 32,
   "id": "5cf14abf",
   "metadata": {},
   "outputs": [],
   "source": [
    "# Consider only data which held on 2016\n",
    "\n",
    "taxi = taxi.select(where=((kx.Column('pickup_date').year == kx.IntAtom(2016)) & (kx.Column('passengers') != kx.ShortAtom(0))))"
   ]
  },
  {
   "cell_type": "code",
   "execution_count": 36,
   "id": "abbc9eec",
   "metadata": {},
   "outputs": [],
   "source": [
    "# Sort the table based on the \"pickup_date\", \"pickup_time\", \"dropoff_date\", \"dropoff_time\" columns\n",
    "\n",
    "\n",
    "taxi = kx.q.xasc([\"pickup_date\", \"pickup_time\", \"dropoff_date\", \"dropoff_time\"], taxi)\n"
   ]
  },
  {
   "cell_type": "code",
   "execution_count": 38,
   "id": "61e50d3b",
   "metadata": {},
   "outputs": [
    {
     "data": {
      "text/html": [
       "<table border=\"1\" class=\"dataframe\">\n",
       "  <thead>\n",
       "    <tr style=\"text-align: right;\">\n",
       "      <th></th>\n",
       "      <th>columns</th>\n",
       "      <th>datatypes</th>\n",
       "    </tr>\n",
       "    <tr>\n",
       "      <th></th>\n",
       "      <th></th>\n",
       "      <th></th>\n",
       "    </tr>\n",
       "  </thead>\n",
       "  <tbody>\n",
       "    <tr>\n",
       "      <th>0</th>\n",
       "      <td>pickup_date</td>\n",
       "      <td>\"kx.DateAtom\"</td>\n",
       "    </tr>\n",
       "    <tr>\n",
       "      <th>1</th>\n",
       "      <td>pickup_time</td>\n",
       "      <td>\"kx.SecondAtom\"</td>\n",
       "    </tr>\n",
       "    <tr>\n",
       "      <th>2</th>\n",
       "      <td>dropoff_date</td>\n",
       "      <td>\"kx.DateAtom\"</td>\n",
       "    </tr>\n",
       "    <tr>\n",
       "      <th>3</th>\n",
       "      <td>dropoff_time</td>\n",
       "      <td>\"kx.SecondAtom\"</td>\n",
       "    </tr>\n",
       "    <tr>\n",
       "      <th>4</th>\n",
       "      <td>vendor</td>\n",
       "      <td>\"kx.CharVector\"</td>\n",
       "    </tr>\n",
       "    <tr>\n",
       "      <th>5</th>\n",
       "      <td>passengers</td>\n",
       "      <td>\"kx.ShortAtom\"</td>\n",
       "    </tr>\n",
       "    <tr>\n",
       "      <th>6</th>\n",
       "      <td>distance</td>\n",
       "      <td>\"kx.RealAtom\"</td>\n",
       "    </tr>\n",
       "    <tr>\n",
       "      <th>7</th>\n",
       "      <td>pickup_borough</td>\n",
       "      <td>\"kx.SymbolAtom\"</td>\n",
       "    </tr>\n",
       "    <tr>\n",
       "      <th>8</th>\n",
       "      <td>pickup_zone</td>\n",
       "      <td>\"kx.CharVector\"</td>\n",
       "    </tr>\n",
       "    <tr>\n",
       "      <th>9</th>\n",
       "      <td>dropoff_borough</td>\n",
       "      <td>\"kx.CharVector\"</td>\n",
       "    </tr>\n",
       "    <tr>\n",
       "      <th>10</th>\n",
       "      <td>dropoff_zone</td>\n",
       "      <td>\"kx.CharVector\"</td>\n",
       "    </tr>\n",
       "    <tr>\n",
       "      <th>11</th>\n",
       "      <td>payment</td>\n",
       "      <td>\"kx.CharVector\"</td>\n",
       "    </tr>\n",
       "    <tr>\n",
       "      <th>12</th>\n",
       "      <td>total</td>\n",
       "      <td>\"kx.RealAtom\"</td>\n",
       "    </tr>\n",
       "    <tr>\n",
       "      <th>13</th>\n",
       "      <td>tip</td>\n",
       "      <td>\"kx.RealAtom\"</td>\n",
       "    </tr>\n",
       "  </tbody>\n",
       "</table>"
      ],
      "text/plain": [
       "pykx.Table(pykx.q('\n",
       "columns         datatypes      \n",
       "-------------------------------\n",
       "pickup_date     \"kx.DateAtom\"  \n",
       "pickup_time     \"kx.SecondAtom\"\n",
       "dropoff_date    \"kx.DateAtom\"  \n",
       "dropoff_time    \"kx.SecondAtom\"\n",
       "vendor          \"kx.CharVector\"\n",
       "passengers      \"kx.ShortAtom\" \n",
       "distance        \"kx.RealAtom\"  \n",
       "pickup_borough  \"kx.SymbolAtom\"\n",
       "pickup_zone     \"kx.CharVector\"\n",
       "dropoff_borough \"kx.CharVector\"\n",
       "dropoff_zone    \"kx.CharVector\"\n",
       "payment         \"kx.CharVector\"\n",
       "total           \"kx.RealAtom\"  \n",
       "tip             \"kx.RealAtom\"  \n",
       "'))"
      ]
     },
     "execution_count": 38,
     "metadata": {},
     "output_type": "execute_result"
    }
   ],
   "source": [
    "taxi.dtypes"
   ]
  },
  {
   "cell_type": "code",
   "execution_count": 41,
   "id": "d1e06fc8",
   "metadata": {},
   "outputs": [
    {
     "data": {
      "text/html": [
       "<table border=\"1\" class=\"dataframe\">\n",
       "  <thead>\n",
       "    <tr style=\"text-align: right;\">\n",
       "      <th></th>\n",
       "      <th>columns</th>\n",
       "      <th>datatypes</th>\n",
       "    </tr>\n",
       "    <tr>\n",
       "      <th></th>\n",
       "      <th></th>\n",
       "      <th></th>\n",
       "    </tr>\n",
       "  </thead>\n",
       "  <tbody>\n",
       "    <tr>\n",
       "      <th>0</th>\n",
       "      <td>pickup_date</td>\n",
       "      <td>\"kx.DateAtom\"</td>\n",
       "    </tr>\n",
       "    <tr>\n",
       "      <th>1</th>\n",
       "      <td>pickup_time</td>\n",
       "      <td>\"kx.SecondAtom\"</td>\n",
       "    </tr>\n",
       "    <tr>\n",
       "      <th>2</th>\n",
       "      <td>dropoff_date</td>\n",
       "      <td>\"kx.DateAtom\"</td>\n",
       "    </tr>\n",
       "    <tr>\n",
       "      <th>3</th>\n",
       "      <td>dropoff_time</td>\n",
       "      <td>\"kx.SecondAtom\"</td>\n",
       "    </tr>\n",
       "    <tr>\n",
       "      <th>4</th>\n",
       "      <td>vendor</td>\n",
       "      <td>\"kx.SymbolAtom\"</td>\n",
       "    </tr>\n",
       "    <tr>\n",
       "      <th>5</th>\n",
       "      <td>passengers</td>\n",
       "      <td>\"kx.ShortAtom\"</td>\n",
       "    </tr>\n",
       "    <tr>\n",
       "      <th>6</th>\n",
       "      <td>distance</td>\n",
       "      <td>\"kx.RealAtom\"</td>\n",
       "    </tr>\n",
       "    <tr>\n",
       "      <th>7</th>\n",
       "      <td>pickup_borough</td>\n",
       "      <td>\"kx.SymbolAtom\"</td>\n",
       "    </tr>\n",
       "    <tr>\n",
       "      <th>8</th>\n",
       "      <td>pickup_zone</td>\n",
       "      <td>\"kx.SymbolAtom\"</td>\n",
       "    </tr>\n",
       "    <tr>\n",
       "      <th>9</th>\n",
       "      <td>dropoff_borough</td>\n",
       "      <td>\"kx.CharVector\"</td>\n",
       "    </tr>\n",
       "    <tr>\n",
       "      <th>10</th>\n",
       "      <td>dropoff_zone</td>\n",
       "      <td>\"kx.SymbolAtom\"</td>\n",
       "    </tr>\n",
       "    <tr>\n",
       "      <th>11</th>\n",
       "      <td>payment</td>\n",
       "      <td>\"kx.SymbolAtom\"</td>\n",
       "    </tr>\n",
       "    <tr>\n",
       "      <th>12</th>\n",
       "      <td>total</td>\n",
       "      <td>\"kx.RealAtom\"</td>\n",
       "    </tr>\n",
       "    <tr>\n",
       "      <th>13</th>\n",
       "      <td>tip</td>\n",
       "      <td>\"kx.RealAtom\"</td>\n",
       "    </tr>\n",
       "  </tbody>\n",
       "</table>"
      ],
      "text/plain": [
       "pykx.Table(pykx.q('\n",
       "columns         datatypes      \n",
       "-------------------------------\n",
       "pickup_date     \"kx.DateAtom\"  \n",
       "pickup_time     \"kx.SecondAtom\"\n",
       "dropoff_date    \"kx.DateAtom\"  \n",
       "dropoff_time    \"kx.SecondAtom\"\n",
       "vendor          \"kx.SymbolAtom\"\n",
       "passengers      \"kx.ShortAtom\" \n",
       "distance        \"kx.RealAtom\"  \n",
       "pickup_borough  \"kx.SymbolAtom\"\n",
       "pickup_zone     \"kx.SymbolAtom\"\n",
       "dropoff_borough \"kx.CharVector\"\n",
       "dropoff_zone    \"kx.SymbolAtom\"\n",
       "payment         \"kx.SymbolAtom\"\n",
       "total           \"kx.RealAtom\"  \n",
       "tip             \"kx.RealAtom\"  \n",
       "'))"
      ]
     },
     "execution_count": 41,
     "metadata": {},
     "output_type": "execute_result"
    }
   ],
   "source": [
    "# Type cast the columns to symbol type\n",
    "\n",
    "\n",
    "taxi = taxi.astype({\n",
    "    \"vendor\": kx.SymbolVector,\n",
    "    \"pickup_zone\": kx.SymbolVector,\n",
    "    \"dropoff_zone\": kx.SymbolVector,\n",
    "    \"payment\": kx.SymbolVector\n",
    "})\n",
    "\n",
    "taxi.dtypes"
   ]
  },
  {
   "cell_type": "code",
   "execution_count": 86,
   "id": "fa2f28d7",
   "metadata": {},
   "outputs": [],
   "source": [
    "#Add bucketing columns\n",
    "\n",
    "bucket_size_in_min = 30\n",
    "\n",
    "taxi['pickup_hour'] = kx.q.div(taxi[\"pickup_time\"], 60*bucket_size_in_min)\n",
    "taxi['pickup_dotw'] = kx.q.mod(taxi[\"pickup_date\"], 7)"
   ]
  },
  {
   "cell_type": "code",
   "execution_count": null,
   "id": "47a6d8d4",
   "metadata": {},
   "outputs": [],
   "source": []
  },
  {
   "cell_type": "markdown",
   "id": "865a0656",
   "metadata": {},
   "source": [
    "## Analyse Taxi Data\n",
    "\n",
    "\n",
    "The main questions we will try to answer here will revolve around the optimisation of the working days and hours of taxi drivers. We will attempt to answer these question:\n",
    "\n",
    "    1. What times of the year should drivers take their holidays?\n",
    "    2. What days of the week should drivers work?\n",
    "    3. What hours should drivers work?\n"
   ]
  },
  {
   "cell_type": "code",
   "execution_count": 46,
   "id": "88e33880",
   "metadata": {},
   "outputs": [
    {
     "data": {
      "text/plain": [
       "366"
      ]
     },
     "execution_count": 46,
     "metadata": {},
     "output_type": "execute_result"
    }
   ],
   "source": [
    "dates = kx.q.distinct(taxi[\"pickup_date\"])\n",
    "len(dates)"
   ]
  },
  {
   "cell_type": "code",
   "execution_count": 47,
   "id": "b23bf719",
   "metadata": {},
   "outputs": [
    {
     "data": {
      "text/plain": [
       "2"
      ]
     },
     "execution_count": 47,
     "metadata": {},
     "output_type": "execute_result"
    }
   ],
   "source": [
    "60//30"
   ]
  },
  {
   "cell_type": "code",
   "execution_count": 87,
   "id": "e06b10d0",
   "metadata": {},
   "outputs": [
    {
     "data": {
      "text/plain": [
       "48"
      ]
     },
     "execution_count": 87,
     "metadata": {},
     "output_type": "execute_result"
    }
   ],
   "source": [
    "distinct_taxi_hours = kx.q.distinct(taxi[\"pickup_hour\"]) / (60 // bucket_size_in_min)\n",
    "\n",
    "len(distinct_taxi_hours)"
   ]
  },
  {
   "cell_type": "code",
   "execution_count": null,
   "id": "f8ec6874",
   "metadata": {},
   "outputs": [],
   "source": [
    "# Do the xgroup based on the date, week, hour columns\n",
    "\n",
    "grouped_taxi_date = kx.q.xgroup()"
   ]
  },
  {
   "cell_type": "code",
   "execution_count": null,
   "id": "ef36110b",
   "metadata": {},
   "outputs": [],
   "source": []
  }
 ],
 "metadata": {
  "kernelspec": {
   "display_name": "Python 3 (ipykernel)",
   "language": "python",
   "name": "python3"
  },
  "language_info": {
   "codemirror_mode": {
    "name": "ipython",
    "version": 3
   },
   "file_extension": ".py",
   "mimetype": "text/x-python",
   "name": "python",
   "nbconvert_exporter": "python",
   "pygments_lexer": "ipython3",
   "version": "3.8.20"
  }
 },
 "nbformat": 4,
 "nbformat_minor": 5
}
